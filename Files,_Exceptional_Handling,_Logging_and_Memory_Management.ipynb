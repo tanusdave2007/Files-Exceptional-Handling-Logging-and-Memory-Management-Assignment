{
  "nbformat": 4,
  "nbformat_minor": 0,
  "metadata": {
    "colab": {
      "provenance": []
    },
    "kernelspec": {
      "name": "python3",
      "display_name": "Python 3"
    },
    "language_info": {
      "name": "python"
    }
  },
  "cells": [
    {
      "cell_type": "markdown",
      "source": [
        "THEORY QUESTIONS AND ANSWERS"
      ],
      "metadata": {
        "id": "WCjy1q79m7tM"
      }
    },
    {
      "cell_type": "markdown",
      "source": [
        "1.What is the difference between interpreted and compiled languages ?\n",
        "\n",
        "Ans:- Difference between Interpreted and Compiled Languages:\n",
        "\n",
        "Execution – Compiled languages translate the entire code into machine code before execution, while interpreted languages translate and execute code line by line.\n",
        "\n",
        "Speed – Compiled languages are generally faster, whereas interpreted languages are slower due to real-time translation.\n",
        "\n",
        "Portability – Interpreted languages are more portable across platforms, compiled languages need recompilation for each platform."
      ],
      "metadata": {
        "id": "pf-wWyiZneUw"
      }
    },
    {
      "cell_type": "markdown",
      "source": [
        "2. What is exception handling in Python ?\n",
        "\n",
        "Ans:- Exception handling in Python is a mechanism to manage runtime errors by using 'try', 'except', 'else', and 'finally' blocks, allowing the program to handle unexpected situations gracefully without crashing, and ensuring proper cleanup or alternative actions when errors occur."
      ],
      "metadata": {
        "id": "2uNPizp9njc3"
      }
    },
    {
      "cell_type": "markdown",
      "source": [
        "3. What is the purpose of the finally block in exception handling ?\n",
        "\n",
        "Ans:-The 'finally' block in Python exception handling is used to define code that will run regardless of whether an exception occurs or not, typically for cleanup tasks like closing files, releasing resources, or resetting states."
      ],
      "metadata": {
        "id": "GqavqCN9nuGj"
      }
    },
    {
      "cell_type": "markdown",
      "source": [
        "4. What is logging in Python ?\n",
        "\n",
        "Ans:- Logging in Python is the process of recording events, errors, and informational messages during a program’s execution using the built-in logging module, which helps in debugging, monitoring, and maintaining applications without interrupting their flow."
      ],
      "metadata": {
        "id": "ypJWwuL9nvbe"
      }
    },
    {
      "cell_type": "markdown",
      "source": [
        "5. What is the significance of the 'del' method in Python ?\n",
        "\n",
        "Ans:- The __del__ method in Python is a destructor that is automatically called when an object is about to be destroyed, typically used to release resources or perform cleanup tasks before the object is removed from memory."
      ],
      "metadata": {
        "id": "DHom-qqjnzYe"
      }
    },
    {
      "cell_type": "markdown",
      "source": [
        "6. What is the difference between import and from ... import in Python ?\n",
        "\n",
        "Ans:- import – Imports the entire module, and you access its functions or variables using the module name as a prefix (e.g., math.sqrt()).\n",
        "\n",
        "from ... import – Imports specific functions, classes, or variables from a module, allowing you to use them directly without the module prefix (e.g., sqrt() instead of math.sqrt())."
      ],
      "metadata": {
        "id": "APv6ycfVn4Vf"
      }
    },
    {
      "cell_type": "markdown",
      "source": [
        "7. How can you handle multiple exceptions in Python ?\n",
        "\n",
        "Ans:- Using multiple except blocks – One for each exception type.\n",
        "Catching multiple exceptions in a single block – By grouping them in parentheses, e.g., except (TypeError, ValueError):."
      ],
      "metadata": {
        "id": "SZg5hRCXn_88"
      }
    },
    {
      "cell_type": "markdown",
      "source": [
        "8. What is the purpose of the with statement when handling files in Python ?\n",
        "\n",
        "Ans:- The with statement in Python is used for automatic resource management when working with files, ensuring that the file is properly closed after its block of code is executed, even if an exception occurs."
      ],
      "metadata": {
        "id": "1fUjdxzooIXD"
      }
    },
    {
      "cell_type": "markdown",
      "source": [
        "9. What is the difference between multithreading and multiprocessing ?\n",
        "\n",
        "Ans:-\n",
        "\n",
        "- Multithreading – Runs multiple threads within the same process, sharing the same memory space; best for I/O-bound tasks but limited by Python’s GIL for CPU-bound tasks.\n",
        "\n",
        "- Multiprocessing – Runs multiple processes with separate memory spaces, allowing true parallelism and better performance for CPU-bound tasks."
      ],
      "metadata": {
        "id": "lv-bTSBgoNeD"
      }
    },
    {
      "cell_type": "markdown",
      "source": [
        "10. What are the advantages of using logging in a program ?\n",
        "\n",
        "Ans:-\n",
        "\n",
        "- Provides a record of events for debugging and analysis.\n",
        "\n",
        "- Allows different log levels (INFO, WARNING, ERROR, etc.) for better control.\n",
        "\n",
        "- Helps monitor program execution without interrupting it.\n",
        "\n",
        "- Can store logs in files for future reference."
      ],
      "metadata": {
        "id": "dyr8wxWvoXCm"
      }
    },
    {
      "cell_type": "markdown",
      "source": [
        "11. What is memory management in Python ?\n",
        "\n",
        "Ans:- Memory management in Python is the process of allocating and releasing memory for objects automatically using a built-in garbage collector and a private heap space, ensuring efficient use of memory and cleanup of unused objects."
      ],
      "metadata": {
        "id": "pYcg90KOohLW"
      }
    },
    {
      "cell_type": "markdown",
      "source": [
        "12. What are the basic steps involved in exception handling in Python ?\n",
        "\n",
        "Ans:-\n",
        "\n",
        "- Wrap risky code in a try block to monitor for errors.\n",
        "\n",
        "- Use except block(s) to catch and handle specific or general exceptions.\n",
        "\n",
        "-  Use else block to run code if no exceptions occur.\n",
        "\n",
        "-  Use finally block for cleanup tasks that must run regardless of errors."
      ],
      "metadata": {
        "id": "dTHLQzFQoln3"
      }
    },
    {
      "cell_type": "markdown",
      "source": [
        "13. Why is memory management important in Python ?\n",
        "\n",
        "Ans:- Memory management is important in Python because it ensures efficient use of system resources, prevents memory leaks, improves program performance, and maintains stability by automatically cleaning up unused objects through garbage collection."
      ],
      "metadata": {
        "id": "7ojFTZKvoz3g"
      }
    },
    {
      "cell_type": "markdown",
      "source": [
        "14. What is the role of try and except in exception handling ?\n",
        "\n",
        "Ans:- In Python exception handling, the try block contains code that may raise an error, while the except block catches and handles the error, preventing the program from crashing and allowing alternative actions to be taken."
      ],
      "metadata": {
        "id": "dblM_r9lo3o5"
      }
    },
    {
      "cell_type": "markdown",
      "source": [
        "15. How does Python's garbage collection system work ?\n",
        "\n",
        "Ans:- Python’s garbage collection system works by automatically reclaiming memory from objects that are no longer referenced, primarily using reference counting and a cyclic garbage collector to detect and clean up unused objects involved in reference cycles."
      ],
      "metadata": {
        "id": "zkr-DfRKo7Jm"
      }
    },
    {
      "cell_type": "markdown",
      "source": [
        "16. What is the purpose of the else block in exception handling ?\n",
        "\n",
        "Ans:- The else block in Python exception handling is used to define code that runs only if no exceptions occur in the try block, keeping normal execution code separate from error-handling code."
      ],
      "metadata": {
        "id": "9uLymz8no_NC"
      }
    },
    {
      "cell_type": "markdown",
      "source": [
        "17. What are the common logging levels in Python ?\n",
        "\n",
        "Ans:-\n",
        "- DEBUG – Detailed diagnostic information for debugging.\n",
        "\n",
        "- INFO – General information about program execution.\n",
        "\n",
        "- WARNING – Indication of potential problems.\n",
        "\n",
        "- ERROR – Serious issues that prevent part of the program from running.\n",
        "\n",
        "- CRITICAL – Severe errors that may cause the program to stop."
      ],
      "metadata": {
        "id": "17rR6S0wpIMl"
      }
    },
    {
      "cell_type": "markdown",
      "source": [
        "18. What is the difference between os.fork() and multiprocessing in Python ?\n",
        "\n",
        "Ans:-\n",
        "\n",
        "- os.fork() – Creates a child process by duplicating the current process (Unix/Linux only), offering low-level control but requiring manual handling of communication and synchronization.\n",
        "\n",
        "- multiprocessing – A high-level Python module that works cross-platform, providing an easy API to create and manage separate processes with built-in communication and synchronization tools."
      ],
      "metadata": {
        "id": "ZyLP31GHpRtJ"
      }
    },
    {
      "cell_type": "markdown",
      "source": [
        "19. What is the importance of closing a file in Python ?\n",
        "\n",
        "Ans:- Closing a file in Python is important because it frees up system resources, ensures that all buffered data is written to disk, and prevents file corruption or data loss."
      ],
      "metadata": {
        "id": "KW5glw-ipXXP"
      }
    },
    {
      "cell_type": "markdown",
      "source": [
        "20. What is the difference between file.read() and file.readline() in Python ?\n",
        "\n",
        "Ans:-\n",
        "- file.read() – Reads the entire file (or a specified number of bytes) into a single string.\n",
        "- file.readline() – Reads only one line from the file at a time, including the newline character."
      ],
      "metadata": {
        "id": "k8FSCmMwpdJa"
      }
    },
    {
      "cell_type": "markdown",
      "source": [
        "21. What is the logging module in Python used for ?\n",
        "\n",
        "Ans:- The logging module in Python is used to record messages about a program’s execution—such as debug info, warnings, and errors—allowing developers to monitor, troubleshoot, and analyze the program without interrupting its flow."
      ],
      "metadata": {
        "id": "gzc3ZMlLpkfE"
      }
    },
    {
      "cell_type": "markdown",
      "source": [
        "22. What is the os module in Python used for in file handling ?\n",
        "\n",
        "Ans:- The os module in Python is used for interacting with the operating system, enabling file handling tasks like creating, deleting, renaming, and navigating directories, as well as retrieving file metadata."
      ],
      "metadata": {
        "id": "H-7TrnyrpoYU"
      }
    },
    {
      "cell_type": "markdown",
      "source": [
        "23. What are the challenges associated with memory management in Python ?\n",
        "\n",
        "Ans:- Challenges in Python memory management include handling reference cycles, avoiding memory leaks from lingering references, managing memory for large datasets efficiently, and minimizing overhead from Python’s dynamic object allocation."
      ],
      "metadata": {
        "id": "MQc7_HZdps-p"
      }
    },
    {
      "cell_type": "markdown",
      "source": [
        "24. How do you raise an exception manually in Python ?\n",
        "\n",
        "Ans:- You can raise an exception manually in Python using the raise keyword followed by an exception class"
      ],
      "metadata": {
        "id": "bwjK8U-DpxGa"
      }
    },
    {
      "cell_type": "markdown",
      "source": [
        "25. Why is it important to use multithreading in certain applications ?\n",
        "\n",
        "Ans:- Multithreading is important in certain applications because it allows multiple tasks to run concurrently within the same process, improving responsiveness and performance in I/O-bound operations like network requests, file handling, or user interface updates."
      ],
      "metadata": {
        "id": "_0d88qKpp2tO"
      }
    },
    {
      "cell_type": "markdown",
      "source": [
        "PRACTICAL QUESTIONS AND ANSWERS"
      ],
      "metadata": {
        "id": "NuMr02Esp7M0"
      }
    },
    {
      "cell_type": "markdown",
      "source": [
        "1. How can you open a file for writing in Python and write a string to it ?\n"
      ],
      "metadata": {
        "id": "a43BI_Fa8DHU"
      }
    },
    {
      "cell_type": "code",
      "execution_count": 1,
      "metadata": {
        "id": "JuX6HxzshHNZ"
      },
      "outputs": [],
      "source": [
        "with open(\"file.txt\", \"w\") as f:\n",
        "    f.write(\"Hello, Python!\")"
      ]
    },
    {
      "cell_type": "markdown",
      "source": [
        "2. Write a Python program to read the contents of a file and print each line.\n"
      ],
      "metadata": {
        "id": "kiW2rS_98HTq"
      }
    },
    {
      "cell_type": "code",
      "source": [
        "with open(\"file.txt\", \"r\") as f:\n",
        "    for line in f:\n",
        "        print(line.strip())"
      ],
      "metadata": {
        "colab": {
          "base_uri": "https://localhost:8080/"
        },
        "id": "06sz9_U_8GkV",
        "outputId": "c6d5c9af-c2fe-4eb2-a296-036fb4831ad5"
      },
      "execution_count": 2,
      "outputs": [
        {
          "output_type": "stream",
          "name": "stdout",
          "text": [
            "Hello, Python!\n"
          ]
        }
      ]
    },
    {
      "cell_type": "markdown",
      "source": [
        "3. How would you handle a case where the file doesn't exist while trying to open it for reading ?\n"
      ],
      "metadata": {
        "id": "jMu_ftaE8K3N"
      }
    },
    {
      "cell_type": "code",
      "source": [
        "try:\n",
        "    with open(\"file02.txt\", \"r\") as f:\n",
        "        print(f.read())\n",
        "except FileNotFoundError:\n",
        "    print(\"The file does not exist.\")"
      ],
      "metadata": {
        "colab": {
          "base_uri": "https://localhost:8080/"
        },
        "id": "rd770dfM8KQX",
        "outputId": "8be36986-856e-42e5-a97f-3ba219d14aac"
      },
      "execution_count": 3,
      "outputs": [
        {
          "output_type": "stream",
          "name": "stdout",
          "text": [
            "The file does not exist.\n"
          ]
        }
      ]
    },
    {
      "cell_type": "markdown",
      "source": [
        "4. Write a Python script that reads from one file and writes its content to another file."
      ],
      "metadata": {
        "id": "DVBojowx8RET"
      }
    },
    {
      "cell_type": "code",
      "source": [
        "with open(\"file.txt\", \"r\") as fl, open(\"destination.txt\", \"w\") as dest:\n",
        "    dest.write(fl.read())"
      ],
      "metadata": {
        "id": "1H8todkZ8PcP"
      },
      "execution_count": 4,
      "outputs": []
    },
    {
      "cell_type": "markdown",
      "source": [
        "5. How would you catch and handle division by zero error in Python ?\n"
      ],
      "metadata": {
        "id": "wj0X3OSX8Vpy"
      }
    },
    {
      "cell_type": "code",
      "source": [
        "try:\n",
        "    result = 7 / 0\n",
        "except ZeroDivisionError:\n",
        "    print(\"Error: Cannot divide by zero.\")"
      ],
      "metadata": {
        "colab": {
          "base_uri": "https://localhost:8080/"
        },
        "id": "FdQB0k_E8U6c",
        "outputId": "822648d0-e79c-410e-fd66-88c2cdcefb69"
      },
      "execution_count": 5,
      "outputs": [
        {
          "output_type": "stream",
          "name": "stdout",
          "text": [
            "Error: Cannot divide by zero.\n"
          ]
        }
      ]
    },
    {
      "cell_type": "markdown",
      "source": [
        "6. Write a Python program that logs an error message to a log file when a division by zero exception occurs.\n"
      ],
      "metadata": {
        "id": "uFTIJjlL8Z3D"
      }
    },
    {
      "cell_type": "code",
      "source": [
        "import logging\n",
        "\n",
        "logging.basicConfig(filename=\"error.log\", level=logging.ERROR)\n",
        "\n",
        "try:\n",
        "    result = 10 / 0\n",
        "except ZeroDivisionError as e:\n",
        "    logging.error(f\"Division by zero error: {e}\")"
      ],
      "metadata": {
        "colab": {
          "base_uri": "https://localhost:8080/"
        },
        "id": "jFcYgc7F8ZFr",
        "outputId": "7e947486-306c-4790-f0c3-e2905b98a777"
      },
      "execution_count": 6,
      "outputs": [
        {
          "output_type": "stream",
          "name": "stderr",
          "text": [
            "ERROR:root:Division by zero error: division by zero\n"
          ]
        }
      ]
    },
    {
      "cell_type": "markdown",
      "source": [
        "7. How do you log information at different levels (INFO, ERROR, WARNING) in Python using the logging module."
      ],
      "metadata": {
        "id": "MD-npA_c8fqH"
      }
    },
    {
      "cell_type": "code",
      "source": [
        "import logging\n",
        "\n",
        "logging.basicConfig(level=logging.DEBUG)\n",
        "\n",
        "logging.info(\"This is an INFO message.\")\n",
        "logging.warning(\"This is a WARNING message.\")\n",
        "logging.error(\"This is an ERROR message.\")"
      ],
      "metadata": {
        "colab": {
          "base_uri": "https://localhost:8080/"
        },
        "id": "Y7yGi6168eS-",
        "outputId": "c849d8cc-b13a-42a9-bf24-66188a1311ad"
      },
      "execution_count": 7,
      "outputs": [
        {
          "output_type": "stream",
          "name": "stderr",
          "text": [
            "WARNING:root:This is a WARNING message.\n",
            "ERROR:root:This is an ERROR message.\n"
          ]
        }
      ]
    },
    {
      "cell_type": "markdown",
      "source": [
        "8. Write a program to handle a file opening error using exception handling."
      ],
      "metadata": {
        "id": "YWciCYLl8lOF"
      }
    },
    {
      "cell_type": "code",
      "source": [
        "try:\n",
        "    with open(\"file07.txt\", \"r\") as f:\n",
        "        content = f.read()\n",
        "        print(content)\n",
        "except FileNotFoundError:\n",
        "    print(\"Error: The file does not exist.\")"
      ],
      "metadata": {
        "colab": {
          "base_uri": "https://localhost:8080/"
        },
        "id": "ejywbI8Q8ixw",
        "outputId": "c4e1e681-a356-4813-8bde-8ce18715ccff"
      },
      "execution_count": 8,
      "outputs": [
        {
          "output_type": "stream",
          "name": "stdout",
          "text": [
            "Error: The file does not exist.\n"
          ]
        }
      ]
    },
    {
      "cell_type": "markdown",
      "source": [
        "9. How can you read a file line by line and store its content in a list in Python ?"
      ],
      "metadata": {
        "id": "ci1hNcJq8qXA"
      }
    },
    {
      "cell_type": "code",
      "source": [
        "with open(\"file.txt\", \"r\") as f:\n",
        "    lines = f.readlines()\n",
        "\n",
        "print(lines)\n",
        "\n",
        "#stores in a list:\n",
        "with open(\"file.txt\", \"r\") as f:\n",
        "    lines = [line.strip() for line in f]"
      ],
      "metadata": {
        "colab": {
          "base_uri": "https://localhost:8080/"
        },
        "id": "dgAFidIP8pvZ",
        "outputId": "4a5e1298-f727-4181-c6bc-44347c3227ae"
      },
      "execution_count": 9,
      "outputs": [
        {
          "output_type": "stream",
          "name": "stdout",
          "text": [
            "['Hello, Python!']\n"
          ]
        }
      ]
    },
    {
      "cell_type": "markdown",
      "source": [
        "10. How can you append data to an existing file in Python?\n"
      ],
      "metadata": {
        "id": "LD4f_Hnz8ubs"
      }
    },
    {
      "cell_type": "code",
      "source": [
        "with open(\"file.txt\", \"a\") as f:\n",
        "    f.write(\"\\nThis is new appended text.\")"
      ],
      "metadata": {
        "id": "-Q8ICU-s8ttJ"
      },
      "execution_count": 10,
      "outputs": []
    },
    {
      "cell_type": "markdown",
      "source": [
        "11. Write a Python program that uses a try-except block to handle an error when attempting to access a dictionary key that doesn't exist."
      ],
      "metadata": {
        "id": "ozGxE9H58x1F"
      }
    },
    {
      "cell_type": "code",
      "source": [
        "data = {\"name\": \"Tanushree\", \"age\": 18}\n",
        "\n",
        "try:\n",
        "    print(data[\"course\"])\n",
        "except KeyError:\n",
        "    print(\"Error: The key does not exist in the dictionary.\")"
      ],
      "metadata": {
        "colab": {
          "base_uri": "https://localhost:8080/"
        },
        "id": "wVjfN9OU8xHp",
        "outputId": "31f3f785-f53e-4cdd-d621-1f25f3ed9452"
      },
      "execution_count": 12,
      "outputs": [
        {
          "output_type": "stream",
          "name": "stdout",
          "text": [
            "Error: The key does not exist in the dictionary.\n"
          ]
        }
      ]
    },
    {
      "cell_type": "markdown",
      "source": [
        "12. Write a program that demonstrates using multiple except blocks to handle different types of exceptions."
      ],
      "metadata": {
        "id": "wdgbmQOe85rH"
      }
    },
    {
      "cell_type": "code",
      "source": [
        "try:\n",
        "    num = int(input(\"Enter a number: \"))\n",
        "    result = 10 / num\n",
        "    print(\"Result:\", result)\n",
        "except ValueError:\n",
        "    print(\"Error: Invalid input. Please enter a number.\")\n",
        "except ZeroDivisionError:\n",
        "    print(\"Error: Cannot divide by zero.\")"
      ],
      "metadata": {
        "colab": {
          "base_uri": "https://localhost:8080/"
        },
        "id": "zYYl3di-83en",
        "outputId": "660eb9f4-7659-4837-f644-a7ace8ee1cf9"
      },
      "execution_count": 13,
      "outputs": [
        {
          "output_type": "stream",
          "name": "stdout",
          "text": [
            "Enter a number:  14\n",
            "Result: 0.7142857142857143\n"
          ]
        }
      ]
    },
    {
      "cell_type": "markdown",
      "source": [
        "13. How would you check if a file exists before attempting to read it in Python ?\n"
      ],
      "metadata": {
        "id": "7gBhDPYp8-XX"
      }
    },
    {
      "cell_type": "code",
      "source": [
        "import os\n",
        "\n",
        "if os.path.exists(\"file.txt\"):\n",
        "    with open(\"file.txt\", \"r\") as f:\n",
        "        print(f.read())\n",
        "else:\n",
        "    print(\"File does not exist.\")"
      ],
      "metadata": {
        "colab": {
          "base_uri": "https://localhost:8080/"
        },
        "id": "IaxGYxL988od",
        "outputId": "300e9e83-4b85-4fe6-9457-1d754ad83e0e"
      },
      "execution_count": 14,
      "outputs": [
        {
          "output_type": "stream",
          "name": "stdout",
          "text": [
            "Hello, Python!\n",
            "This is new appended text.\n"
          ]
        }
      ]
    },
    {
      "cell_type": "markdown",
      "source": [
        "14. Write a program that uses the logging module to log both informational and error messages."
      ],
      "metadata": {
        "id": "9P3LiUan9Dzz"
      }
    },
    {
      "cell_type": "code",
      "source": [
        "import logging\n",
        "\n",
        "logging.basicConfig(level=logging.DEBUG, format=\"%(levelname)s: %(message)s\")\n",
        "\n",
        "logging.info(\"Program started successfully.\")\n",
        "try:\n",
        "    result = 7 / 0\n",
        "except ZeroDivisionError as e:\n",
        "    logging.error(f\"An error occurred: {e}\")"
      ],
      "metadata": {
        "colab": {
          "base_uri": "https://localhost:8080/"
        },
        "id": "M15Lidy49A85",
        "outputId": "a81e4f75-9381-4a29-d9a2-0572c0bee0fa"
      },
      "execution_count": 17,
      "outputs": [
        {
          "output_type": "stream",
          "name": "stderr",
          "text": [
            "ERROR:root:An error occurred: division by zero\n"
          ]
        }
      ]
    },
    {
      "cell_type": "markdown",
      "source": [
        "15. Write a Python program that prints the content of a file and handles the case when the file is empty.\n"
      ],
      "metadata": {
        "id": "Jnt6iPCh9Lz1"
      }
    },
    {
      "cell_type": "code",
      "source": [
        "try:\n",
        "    with open(\"file.txt\", \"r\") as f:\n",
        "        content = f.read()\n",
        "        if content.strip():  # Check if not empty after removing spaces/newlines\n",
        "            print(content)\n",
        "        else:\n",
        "            print(\"The file is empty.\")\n",
        "except FileNotFoundError:\n",
        "    print(\"Error: File not found.\")"
      ],
      "metadata": {
        "colab": {
          "base_uri": "https://localhost:8080/"
        },
        "id": "q0_iV7zr9FYL",
        "outputId": "61f0c151-68f9-4abe-85b7-06713c30d0e0"
      },
      "execution_count": 18,
      "outputs": [
        {
          "output_type": "stream",
          "name": "stdout",
          "text": [
            "Hello, Python!\n",
            "This is new appended text.\n"
          ]
        }
      ]
    },
    {
      "cell_type": "markdown",
      "source": [
        "16. Demonstrate how to use memory profiling to check the memory usage of a small program.\n",
        "\n",
        "Ans:- -"
      ],
      "metadata": {
        "id": "sEkp8VRQ9Ptx"
      }
    },
    {
      "cell_type": "markdown",
      "source": [
        "17. Write a Python program to create and write a list of numbers to a file, one number per line.\n"
      ],
      "metadata": {
        "id": "oY_4SFQj91DA"
      }
    },
    {
      "cell_type": "code",
      "source": [
        "numbers = [10, 20, 30, 40, 50]\n",
        "\n",
        "with open(\"numbers.txt\", \"w\") as f:\n",
        "    for num in numbers:\n",
        "        f.write(str(num) + \"\\n\")"
      ],
      "metadata": {
        "id": "rb8EUvQv9TUJ"
      },
      "execution_count": 26,
      "outputs": []
    },
    {
      "cell_type": "markdown",
      "source": [
        "18. How would you implement a basic logging setup that logs to a file with rotation after 1MB ?\n"
      ],
      "metadata": {
        "id": "CB5CR1xW95HH"
      }
    },
    {
      "cell_type": "code",
      "source": [
        "import logging\n",
        "from logging.handlers import RotatingFileHandler\n",
        "\n",
        "# Set up rotating log handler\n",
        "handler = RotatingFileHandler(\n",
        "    \"app.log\", maxBytes=1_000_000, backupCount=3\n",
        ")\n",
        "\n",
        "logging.basicConfig(\n",
        "    level=logging.INFO,\n",
        "    format=\"%(asctime)s - %(levelname)s - %(message)s\",\n",
        "    handlers=[handler]\n",
        ")\n",
        "\n",
        "# Example logs\n",
        "for i in range(10000):\n",
        "    logging.info(f\"Log entry {i}\")"
      ],
      "metadata": {
        "id": "AYyGh15_94ar"
      },
      "execution_count": 27,
      "outputs": []
    },
    {
      "cell_type": "markdown",
      "source": [
        "19. Write a program that handles both IndexError and KeyError using a try-except block."
      ],
      "metadata": {
        "id": "Y0zJ2f6X9_Z8"
      }
    },
    {
      "cell_type": "code",
      "source": [
        "data_list = [1, 2, 3]\n",
        "data_dict = {\"name\": \"Alice\"}\n",
        "\n",
        "try:\n",
        "    print(data_list[5])       # Will cause IndexError\n",
        "    print(data_dict[\"age\"])   # Will cause KeyError\n",
        "except IndexError:\n",
        "    print(\"Error: List index out of range.\")\n",
        "except KeyError:\n",
        "    print(\"Error: Key not found in dictionary.\")"
      ],
      "metadata": {
        "colab": {
          "base_uri": "https://localhost:8080/"
        },
        "id": "7Pff4YET980o",
        "outputId": "8885ccae-d90f-4f07-aa15-d1e0efaf3dc2"
      },
      "execution_count": 28,
      "outputs": [
        {
          "output_type": "stream",
          "name": "stdout",
          "text": [
            "Error: List index out of range.\n"
          ]
        }
      ]
    },
    {
      "cell_type": "markdown",
      "source": [
        "20. How would you open a file and read its contents using a context manager in Python ?\n"
      ],
      "metadata": {
        "id": "Nax-pPwY-GWe"
      }
    },
    {
      "cell_type": "code",
      "source": [
        "with open(\"file.txt\", \"r\") as f:\n",
        "    content = f.read()\n",
        "    print(content)"
      ],
      "metadata": {
        "colab": {
          "base_uri": "https://localhost:8080/"
        },
        "id": "1HAnID51-EPa",
        "outputId": "8818a346-4619-4682-b090-0a36ca9e8ecf"
      },
      "execution_count": 29,
      "outputs": [
        {
          "output_type": "stream",
          "name": "stdout",
          "text": [
            "Hello, Python!\n",
            "This is new appended text.\n"
          ]
        }
      ]
    },
    {
      "cell_type": "markdown",
      "source": [
        "21. Write a Python program that reads a file and prints the number of occurrences of a specific word.\n"
      ],
      "metadata": {
        "id": "OLUSwrK6-ZK1"
      }
    },
    {
      "cell_type": "code",
      "source": [
        "word_to_count = \"python\"\n",
        "\n",
        "with open(\"file.txt\", \"r\") as f:\n",
        "    content = f.read().lower()\n",
        "    count = content.count(word_to_count.lower())\n",
        "\n",
        "print(f\"The word '{word_to_count}' occurs {count} times.\")"
      ],
      "metadata": {
        "colab": {
          "base_uri": "https://localhost:8080/"
        },
        "id": "Oo7tWXg--Icm",
        "outputId": "44453d79-6a7b-4371-ca7a-bc07f67d3c87"
      },
      "execution_count": 30,
      "outputs": [
        {
          "output_type": "stream",
          "name": "stdout",
          "text": [
            "The word 'python' occurs 1 times.\n"
          ]
        }
      ]
    },
    {
      "cell_type": "markdown",
      "source": [
        "22. How can you check if a file is empty before attempting to read its contents ?\n"
      ],
      "metadata": {
        "id": "ivaQGudN-c7M"
      }
    },
    {
      "cell_type": "code",
      "source": [
        "import os\n",
        "\n",
        "file_path = \"file.txt\"\n",
        "\n",
        "if os.path.exists(file_path) and os.path.getsize(file_path) > 0:\n",
        "    with open(file_path, \"r\") as f:\n",
        "        print(f.read())\n",
        "else:\n",
        "    print(\"The file is empty or does not exist.\")"
      ],
      "metadata": {
        "colab": {
          "base_uri": "https://localhost:8080/"
        },
        "id": "NdwJ5sVM-cGe",
        "outputId": "82a5e3f5-873a-4d37-ed0d-d746f479fb00"
      },
      "execution_count": 31,
      "outputs": [
        {
          "output_type": "stream",
          "name": "stdout",
          "text": [
            "Hello, Python!\n",
            "This is new appended text.\n"
          ]
        }
      ]
    },
    {
      "cell_type": "markdown",
      "source": [
        "23. Write a Python program that writes to a log file when an error occurs during file handling."
      ],
      "metadata": {
        "id": "HzoIYp7R-gYU"
      }
    },
    {
      "cell_type": "code",
      "source": [
        "import logging\n",
        "\n",
        "# Configure logging to write to a file\n",
        "logging.basicConfig(filename=\"file_errors.log\", level=logging.ERROR,\n",
        "                    format=\"%(asctime)s - %(levelname)s - %(message)s\")\n",
        "\n",
        "try:\n",
        "    with open(\"nonexistent.txt\", \"r\") as f:\n",
        "        content = f.read()\n",
        "except FileNotFoundError as e:\n",
        "    logging.error(f\"File not found: {e}\")"
      ],
      "metadata": {
        "colab": {
          "base_uri": "https://localhost:8080/"
        },
        "id": "nqHkjt94-fxO",
        "outputId": "7393bf99-e89d-4f7e-d4e8-39284424bfe5"
      },
      "execution_count": 32,
      "outputs": [
        {
          "output_type": "stream",
          "name": "stderr",
          "text": [
            "ERROR:root:File not found: [Errno 2] No such file or directory: 'nonexistent.txt'\n"
          ]
        }
      ]
    },
    {
      "cell_type": "code",
      "source": [],
      "metadata": {
        "id": "JeoKHjQb-jNQ"
      },
      "execution_count": null,
      "outputs": []
    }
  ]
}